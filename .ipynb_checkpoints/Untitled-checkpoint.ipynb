{
 "cells": [
  {
   "cell_type": "code",
   "execution_count": 1,
   "metadata": {},
   "outputs": [],
   "source": [
    "import json\n",
    "from ridt.config import ConfigFileParser\n",
    "from ridt.config import ConfigFileWriter\n",
    "from os.path import split\n",
    "\n",
    "def modify(path):\n",
    "    with open(path, 'r') as f:\n",
    "        m = json.loads(f.read())\n",
    "    m[\"ridt_version\"] = \"v1.0\"\n",
    "    folder, name = split(path)\n",
    "    ConfigFileWriter(folder, name, m)\n",
    "\n",
    "\n"
   ]
  },
  {
   "cell_type": "code",
   "execution_count": 2,
   "metadata": {
    "scrolled": true
   },
   "outputs": [
    {
     "name": "stdout",
     "output_type": "stream",
     "text": [
      "C:\\Work\\ridt\\ridt\\ridt\\tests\\systemtests\\st01\\error_config.json\n",
      "C:\\Work\\ridt\\ridt\\ridt\\tests\\systemtests\\st02\\config.json\n",
      "C:\\Work\\ridt\\ridt\\ridt\\tests\\systemtests\\st06\\config.json\n",
      "C:\\Work\\ridt\\ridt\\ridt\\tests\\systemtests\\st11\\config.json\n",
      "C:\\Work\\ridt\\ridt\\ridt\\tests\\systemtests\\st13\\config.json\n",
      "C:\\Work\\ridt\\ridt\\ridt\\tests\\systemtests\\st14\\config.json\n",
      "C:\\Work\\ridt\\ridt\\ridt\\tests\\systemtests\\st15\\config.json\n",
      "C:\\Work\\ridt\\ridt\\ridt\\tests\\systemtests\\st16\\explicit.json\n",
      "C:\\Work\\ridt\\ridt\\ridt\\tests\\systemtests\\st16\\tkeb.json\n",
      "C:\\Work\\ridt\\ridt\\ridt\\tests\\systemtests\\st19\\config.json\n",
      "C:\\Work\\ridt\\ridt\\ridt\\tests\\systemtests\\st20\\config.json\n",
      "C:\\Work\\ridt\\ridt\\ridt\\tests\\systemtests\\st23\\config.json\n",
      "C:\\Work\\ridt\\ridt\\ridt\\tests\\systemtests\\st26\\config.json\n",
      "C:\\Work\\ridt\\ridt\\ridt\\tests\\systemtests\\st27\\config.json\n",
      "C:\\Work\\ridt\\ridt\\ridt\\tests\\systemtests\\st27\\config_new.json\n",
      "C:\\Work\\ridt\\ridt\\ridt\\tests\\systemtests\\st27\\csv_to_config.json\n",
      "C:\\Work\\ridt\\ridt\\ridt\\tests\\systemtests\\st27\\new_config.json\n",
      "C:\\Work\\ridt\\ridt\\ridt\\tests\\systemtests\\st28\\fixacr0line\\config.json\n",
      "C:\\Work\\ridt\\ridt\\ridt\\tests\\systemtests\\st28\\fixacr0point\\config.json\n",
      "C:\\Work\\ridt\\ridt\\ridt\\tests\\systemtests\\st28\\fixacr5line\\config.json\n",
      "C:\\Work\\ridt\\ridt\\ridt\\tests\\systemtests\\st28\\fixacr5point\\config.json\n",
      "C:\\Work\\ridt\\ridt\\ridt\\tests\\systemtests\\st28\\infacr0line\\config.json\n",
      "C:\\Work\\ridt\\ridt\\ridt\\tests\\systemtests\\st28\\infacr0point\\config.json\n",
      "C:\\Work\\ridt\\ridt\\ridt\\tests\\systemtests\\st28\\infacr5line\\config.json\n",
      "C:\\Work\\ridt\\ridt\\ridt\\tests\\systemtests\\st28\\infacr5point\\config.json\n",
      "C:\\Work\\ridt\\ridt\\ridt\\tests\\systemtests\\st28\\insacr0line\\config.json\n",
      "C:\\Work\\ridt\\ridt\\ridt\\tests\\systemtests\\st28\\insacr0point\\config.json\n",
      "C:\\Work\\ridt\\ridt\\ridt\\tests\\systemtests\\st28\\insacr5line\\config.json\n",
      "C:\\Work\\ridt\\ridt\\ridt\\tests\\systemtests\\st28\\insacr5point\\config.json\n",
      "C:\\Work\\ridt\\ridt\\ridt\\tests\\systemtests\\st29\\fix\\config.json\n",
      "C:\\Work\\ridt\\ridt\\ridt\\tests\\systemtests\\st29\\inf\\config.json\n",
      "C:\\Work\\ridt\\ridt\\ridt\\tests\\systemtests\\st29\\ins\\config.json\n"
     ]
    }
   ],
   "source": [
    "from os import listdir\n",
    "from os.path import join\n",
    "from os.path import isdir\n",
    "from os.path import isfile\n",
    "import os\n",
    "fs = []\n",
    "for root, directories, filenames in os.walk(r\"C:\\Work\\ridt\\ridt\\ridt\\tests\\systemtests\"):\n",
    "\n",
    "    for filename in [f for f in filenames if \".json\" in f]: \n",
    "        fs.append(os.path.join(root,filename))\n",
    "for f in fs:\n",
    "    print(f)\n"
   ]
  },
  {
   "cell_type": "code",
   "execution_count": 3,
   "metadata": {},
   "outputs": [],
   "source": [
    "for f in fs:\n",
    "    modify(f)"
   ]
  },
  {
   "cell_type": "code",
   "execution_count": null,
   "metadata": {},
   "outputs": [],
   "source": []
  }
 ],
 "metadata": {
  "kernelspec": {
   "display_name": "Python 3",
   "language": "python",
   "name": "python3"
  },
  "language_info": {
   "codemirror_mode": {
    "name": "ipython",
    "version": 3
   },
   "file_extension": ".py",
   "mimetype": "text/x-python",
   "name": "python",
   "nbconvert_exporter": "python",
   "pygments_lexer": "ipython3",
   "version": "3.8.0"
  }
 },
 "nbformat": 4,
 "nbformat_minor": 2
}
